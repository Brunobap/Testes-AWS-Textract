{
 "cells": [
  {
   "cell_type": "markdown",
   "id": "b06dbd18-d302-4ae9-96f7-b384143c7b45",
   "metadata": {},
   "source": [
    "# 1º teste para o AWS Textract\n",
    "\n",
    "Uso direto da API do SDK da Amazon com a linguagem Python\n",
    "\n",
    "Pré-procedimento:\n",
    "- Baixar o AWS CLI ()\n",
    "- Baixar o SDK Python da AWS (Boto3)\n",
    "- Configurar com o comando de linha \"aws configure\". *Procedimento detalhado nas anotações sobre o Textract\n",
    "- Configurar um balde simples (S3) de informações nos serviços da AWS, para enviar/puxar os documentos\n",
    "- Baixar o pacote da AWS com o pip (\"!pip install botocore\" e \"!pip install boto3\")\n",
    "  * Sempre instalar o core primeiro, e com a exclamação de persistência no começo, senão dá problema *\n",
    " \n",
    "### Fonte: <https://www.youtube.com/watch?v=-SpHPW3RTx8>"
   ]
  },
  {
   "cell_type": "code",
   "execution_count": 34,
   "id": "75e68b30-b5d5-4d2d-b552-ad4fd4352434",
   "metadata": {},
   "outputs": [
    {
     "name": "stdout",
     "output_type": "stream",
     "text": [
      "Defaulting to user installation because normal site-packages is not writeable\n",
      "Requirement already satisfied: botocore in c:\\users\\brunobap\\appdata\\roaming\\python\\python313\\site-packages (1.36.2)\n",
      "Requirement already satisfied: jmespath<2.0.0,>=0.7.1 in c:\\users\\brunobap\\appdata\\roaming\\python\\python313\\site-packages (from botocore) (1.0.1)\n",
      "Requirement already satisfied: python-dateutil<3.0.0,>=2.1 in c:\\users\\brunobap\\appdata\\roaming\\python\\python313\\site-packages (from botocore) (2.9.0.post0)\n",
      "Requirement already satisfied: urllib3!=2.2.0,<3,>=1.25.4 in c:\\users\\brunobap\\appdata\\roaming\\python\\python313\\site-packages (from botocore) (2.3.0)\n",
      "Requirement already satisfied: six>=1.5 in c:\\users\\brunobap\\appdata\\roaming\\python\\python313\\site-packages (from python-dateutil<3.0.0,>=2.1->botocore) (1.17.0)\n",
      "Note: you may need to restart the kernel to use updated packages.\n"
     ]
    },
    {
     "name": "stderr",
     "output_type": "stream",
     "text": [
      "\n",
      "[notice] A new release of pip is available: 24.3.1 -> 25.0.1\n",
      "[notice] To update, run: python.exe -m pip install --upgrade pip\n"
     ]
    }
   ],
   "source": [
    "%pip install botocore"
   ]
  },
  {
   "cell_type": "code",
   "execution_count": 35,
   "id": "89fb6337-31ef-4ae1-96db-fa0521533f35",
   "metadata": {
    "scrolled": true
   },
   "outputs": [
    {
     "name": "stdout",
     "output_type": "stream",
     "text": [
      "Defaulting to user installation because normal site-packages is not writeableNote: you may need to restart the kernel to use updated packages.\n",
      "\n",
      "Requirement already satisfied: boto3 in c:\\users\\brunobap\\appdata\\roaming\\python\\python313\\site-packages (1.36.2)\n",
      "Requirement already satisfied: botocore<1.37.0,>=1.36.2 in c:\\users\\brunobap\\appdata\\roaming\\python\\python313\\site-packages (from boto3) (1.36.2)\n",
      "Requirement already satisfied: jmespath<2.0.0,>=0.7.1 in c:\\users\\brunobap\\appdata\\roaming\\python\\python313\\site-packages (from boto3) (1.0.1)\n",
      "Requirement already satisfied: s3transfer<0.12.0,>=0.11.0 in c:\\users\\brunobap\\appdata\\roaming\\python\\python313\\site-packages (from boto3) (0.11.1)\n",
      "Requirement already satisfied: python-dateutil<3.0.0,>=2.1 in c:\\users\\brunobap\\appdata\\roaming\\python\\python313\\site-packages (from botocore<1.37.0,>=1.36.2->boto3) (2.9.0.post0)\n",
      "Requirement already satisfied: urllib3!=2.2.0,<3,>=1.25.4 in c:\\users\\brunobap\\appdata\\roaming\\python\\python313\\site-packages (from botocore<1.37.0,>=1.36.2->boto3) (2.3.0)\n",
      "Requirement already satisfied: six>=1.5 in c:\\users\\brunobap\\appdata\\roaming\\python\\python313\\site-packages (from python-dateutil<3.0.0,>=2.1->botocore<1.37.0,>=1.36.2->boto3) (1.17.0)\n"
     ]
    },
    {
     "name": "stderr",
     "output_type": "stream",
     "text": [
      "\n",
      "[notice] A new release of pip is available: 24.3.1 -> 25.0.1\n",
      "[notice] To update, run: python.exe -m pip install --upgrade pip\n"
     ]
    }
   ],
   "source": [
    "%pip install boto3"
   ]
  },
  {
   "cell_type": "code",
   "execution_count": 36,
   "id": "9720bdfd",
   "metadata": {},
   "outputs": [
    {
     "name": "stdout",
     "output_type": "stream",
     "text": [
      "Defaulting to user installation because normal site-packages is not writeable\n",
      "Requirement already satisfied: textract-trp in c:\\users\\brunobap\\appdata\\roaming\\python\\python313\\site-packages (0.1.3)\n",
      "Note: you may need to restart the kernel to use updated packages.\n"
     ]
    },
    {
     "name": "stderr",
     "output_type": "stream",
     "text": [
      "\n",
      "[notice] A new release of pip is available: 24.3.1 -> 25.0.1\n",
      "[notice] To update, run: python.exe -m pip install --upgrade pip\n"
     ]
    }
   ],
   "source": [
    "%pip install textract-trp"
   ]
  },
  {
   "cell_type": "code",
   "execution_count": 37,
   "id": "d4d10427-4921-406c-ae53-35d51768dc8b",
   "metadata": {
    "scrolled": true
   },
   "outputs": [],
   "source": [
    "import boto3\n",
    "# Biblioteca para a manipulação de Documentos processados pelo Texract\n",
    "from trp import Document\n",
    "\n",
    "# Salvar o nome do balde que será usado para guardar as imagens\n",
    "# E das imagems de teste usada\n",
    "nomeBalde = \"buck-textract\"\n",
    "nomeImagem = [\n",
    "    'teste01-wallpaper.jpg',\n",
    "    'teste02-formulario.png',\n",
    "    'teste03-tabela.pdf'\n",
    "]\n",
    "\n",
    "# Iniciar a seção com o usuário remoto\n",
    "secao = boto3.session.Session()\n",
    "\n",
    "# Importar a biblioteca dos serviços usados (Textract, Balde S3)\n",
    "s3 = secao.client(\"s3\")\n",
    "textract = secao.client(\"textract\")"
   ]
  },
  {
   "cell_type": "code",
   "execution_count": 38,
   "id": "621abce9-eb00-4dee-ad80-b04dbb6a168f",
   "metadata": {
    "scrolled": true
   },
   "outputs": [
    {
     "name": "stdout",
     "output_type": "stream",
     "text": [
      "{'ResponseMetadata': {'RequestId': 'W7VF2AEQAP0YVX77', 'HostId': 'flhlm2fjvHF9mkoYS7ypBmp2+97TG3t1MhO7nPC4o9j54Q9XEVYFglCV8ezfGpe4j8wDeJHG+0LB5qhiffJuaLSBcP31rHY1+5SC93+c8Vs=', 'HTTPStatusCode': 200, 'HTTPHeaders': {'x-amz-id-2': 'flhlm2fjvHF9mkoYS7ypBmp2+97TG3t1MhO7nPC4o9j54Q9XEVYFglCV8ezfGpe4j8wDeJHG+0LB5qhiffJuaLSBcP31rHY1+5SC93+c8Vs=', 'x-amz-request-id': 'W7VF2AEQAP0YVX77', 'date': 'Fri, 28 Feb 2025 14:34:17 GMT', 'last-modified': 'Wed, 22 Jan 2025 20:02:51 GMT', 'etag': '\"9c6b7ec23bf7bc479c172f7ca1296f5b\"', 'x-amz-checksum-crc64nvme': 'Lz1tNQHo++U=', 'x-amz-checksum-type': 'FULL_OBJECT', 'x-amz-server-side-encryption': 'AES256', 'accept-ranges': 'bytes', 'content-type': 'image/png', 'content-length': '118637', 'server': 'AmazonS3'}, 'RetryAttempts': 0}, 'AcceptRanges': 'bytes', 'LastModified': datetime.datetime(2025, 1, 22, 20, 2, 51, tzinfo=tzutc()), 'ContentLength': 118637, 'ETag': '\"9c6b7ec23bf7bc479c172f7ca1296f5b\"', 'ChecksumCRC64NVME': 'Lz1tNQHo++U=', 'ChecksumType': 'FULL_OBJECT', 'ContentType': 'image/png', 'ServerSideEncryption': 'AES256', 'Metadata': {}, 'Body': <botocore.response.StreamingBody object at 0x000001F6DA14C8E0>}\n"
     ]
    }
   ],
   "source": [
    "# Teste da API AWS: Requisitar uma imagem de teste de dentro do balde\n",
    "reqImagem = s3.get_object(Bucket=nomeBalde, Key=nomeImagem[1])\n",
    "print(reqImagem)"
   ]
  },
  {
   "cell_type": "code",
   "execution_count": 39,
   "id": "60fe657d-87a2-4170-bd45-edfe3ad263de",
   "metadata": {},
   "outputs": [
    {
     "name": "stdout",
     "output_type": "stream",
     "text": [
      "Informações reconhecidas da imagem \"teste01-wallpaper.jpg\":\n",
      "Linha 0: ASBESTOS\n",
      "Linha 1: APERTURE\n",
      "Linha 2: SCIENCE INNOVATORS\n"
     ]
    }
   ],
   "source": [
    "# Com a confirmação de que a imagem está lá, fazer a leitura da imagem com o Textract\n",
    "# 1ª imagem: Wallpaper com as frases:\n",
    "\"\"\"\n",
    "    - SALT - ASBESTOS - CURTAIN\n",
    "    - APERTURE\n",
    "    - SCIENCE INNOVATORS\n",
    "\"\"\"\n",
    "# OBS: Função 'detect_document_text' só lê as linhas de texto puras do documento\n",
    "# Função geral para ler textos no modo padrão\n",
    "def reqPadrao(balde,imagem):\n",
    "    reqDigImagem0 = textract.detect_document_text(\n",
    "        # Informar o tipo de objeto que contém o documento esperado\n",
    "        Document = {\n",
    "            'S3Object': {\n",
    "                'Bucket': balde,\n",
    "                'Name': imagem\n",
    "            }\n",
    "        }\n",
    "    )\n",
    "    print('Informações reconhecidas da imagem \"{}\":'.format(imagem))\n",
    "    \n",
    "    # Iterar as páginas do arquivo\n",
    "    linha = 0\n",
    "    for bloco in reqDigImagem0['Blocks']:\n",
    "        if bloco[\"BlockType\"] == \"LINE\":\n",
    "            print(\"Linha {}: {}\".format(linha, bloco[\"Text\"]))\n",
    "            linha = linha +1\n",
    "\n",
    "# Chamar a função para a 1a imagem\n",
    "reqPadrao(nomeBalde, nomeImagem[0])"
   ]
  },
  {
   "cell_type": "markdown",
   "id": "a4b77996-a5df-42a7-a5b6-ce90f4d72e57",
   "metadata": {},
   "source": [
    "RESULTADO: Faltam algumas palavras, elas estão curvadas e de lado"
   ]
  },
  {
   "cell_type": "code",
   "execution_count": 40,
   "id": "efcedc84",
   "metadata": {},
   "outputs": [
    {
     "name": "stdout",
     "output_type": "stream",
     "text": [
      "Informações reconhecidas da imagem \"teste02-formulario.png\":\n",
      "Chave 'Envie um e-mail para O usuário com as instruções para configuração da senha.' - Valor 'SELECTED'\n",
      "Chave 'Nome' - Valor 'Insira o nome'\n",
      "Chave 'Confirmar endereço de e-mail' - Valor 'email@example.com'\n",
      "Chave 'Endereço de e-mail' - Valor 'email@example.com'\n",
      "Chave 'Gere uma senha única que possa ser compartilhada com este usuário.' - Valor 'NOT_SELECTED'\n",
      "Chave 'Nome do usuário' - Valor 'Esse nome de usuário será necessário para que esse usuário faça login no AWS access portal. O nome de usuário não pode ser alterado posteriormente. Insira O nome de usuário'\n"
     ]
    }
   ],
   "source": [
    "# 2ª imagem: screenshot do formulário de criação de usuário IAM da AWS, com os inputs:\n",
    "\"\"\"\n",
    "    - Nome do usuário\n",
    "    - Senha (radio button)\n",
    "    - Endereço de email\n",
    "    - Confirmar Endereço de email\n",
    "    - Nome\n",
    "\"\"\"\n",
    "# OBS: a função 'analyze_document' vai pegar as informações do documento de acordo com um modelo\n",
    "reqDigImagem1 = textract.analyze_document(\n",
    "    # Informar o tipo de objeto que contém o documento esperado\n",
    "    Document = {\n",
    "        'S3Object': {\n",
    "            'Bucket': nomeBalde,\n",
    "            'Name': nomeImagem[1]\n",
    "        }\n",
    "    },\n",
    "    # Informar qual o tipo de documento vai ser analisado, no caso, um formulário\n",
    "    FeatureTypes = [\"FORMS\"]\n",
    ")\n",
    "doc = Document(reqDigImagem1)\n",
    "print('Informações reconhecidas da imagem \"{}\":'.format(nomeImagem[1]))\n",
    "\n",
    "# Iterar as páginas do arquivo\n",
    "for pagina in doc.pages:\n",
    "    for campo in pagina.form.fields:\n",
    "        print(\"Chave '{}' - Valor '{}'\".format(campo.key, campo.value))"
   ]
  },
  {
   "cell_type": "markdown",
   "id": "711c84aa-0e22-4968-8cdd-c8049abbff34",
   "metadata": {},
   "source": [
    "RESULTADO: Todas as informções condizem com o documento original"
   ]
  },
  {
   "cell_type": "code",
   "execution_count": 41,
   "id": "5bd3a2d0",
   "metadata": {
    "scrolled": true
   },
   "outputs": [
    {
     "name": "stdout",
     "output_type": "stream",
     "text": [
      "Informações reconhecidas da imagem \"teste03-tabela.pdf\":\n",
      "Tabela 0:\n",
      "\t[0][0] = NOME \n",
      "\t[1][0] = SIMBOLO \n",
      "\t[2][0] = POTENCIA \n",
      "\t[3][0] = NUMERO \n",
      "\n",
      "\t[0][1] = yotta \n",
      "\t[1][1] = Y \n",
      "\t[2][1] = 1024 \n",
      "\t[3][1] = 1 000 000 000 000 000 000 000 000 \n",
      "\n",
      "\t[0][2] = zetta \n",
      "\t[1][2] = Z \n",
      "\t[2][2] = 1021 \n",
      "\t[3][2] = 1000 000 000 000 000 000 000 \n",
      "\n",
      "\t[0][3] = exa \n",
      "\t[1][3] = E \n",
      "\t[2][3] = 1018 \n",
      "\t[3][3] = 1000 000 000 000 000 000 \n",
      "\n",
      "\t[0][4] = peta \n",
      "\t[1][4] = P \n",
      "\t[2][4] = 1015 \n",
      "\t[3][4] = 1 000 000000 000 000 \n",
      "\n",
      "\t[0][5] = tera \n",
      "\t[1][5] = T \n",
      "\t[2][5] = 1012 \n",
      "\t[3][5] = 000 000 000 000 \n",
      "\n",
      "\t[0][6] = giga \n",
      "\t[1][6] = G \n",
      "\t[2][6] = 10° \n",
      "\t[3][6] = 1000 000 000 \n",
      "\n",
      "\t[0][7] = mega \n",
      "\t[1][7] = M \n",
      "\t[2][7] = 106 \n",
      "\t[3][7] = 1000000 \n",
      "\n",
      "\t[0][8] = quilo \n",
      "\t[1][8] = K \n",
      "\t[2][8] = 103 \n",
      "\t[3][8] = 1000 \n",
      "\n",
      "\t[0][9] = hecto \n",
      "\t[1][9] = H \n",
      "\t[2][9] = 102 \n",
      "\t[3][9] = 100 \n",
      "\n",
      "\t[0][10] = deca \n",
      "\t[1][10] = Da \n",
      "\t[2][10] = 101 \n",
      "\t[3][10] = 10 \n",
      "\n",
      "\t[0][11] = deci \n",
      "\t[1][11] = d \n",
      "\t[2][11] = 10-1 \n",
      "\t[3][11] = 0,1 \n",
      "\n",
      "\t[0][12] = centi \n",
      "\t[1][12] = C \n",
      "\t[2][12] = 10-2 \n",
      "\t[3][12] = 0,01 \n",
      "\n",
      "\t[0][13] = mili \n",
      "\t[1][13] = m \n",
      "\t[2][13] = 10 \n",
      "\t[3][13] = 0,001 \n",
      "\n",
      "\t[0][14] = micro \n",
      "\t[1][14] = J \n",
      "\t[2][14] = 10-6 \n",
      "\t[3][14] = 0,000 001 \n",
      "\n",
      "\t[0][15] = nano \n",
      "\t[1][15] = n \n",
      "\t[2][15] = 10-9 \n",
      "\t[3][15] = 0,000 000 001 \n",
      "\n",
      "\t[0][16] = pico \n",
      "\t[1][16] = p \n",
      "\t[2][16] = 10-12 \n",
      "\t[3][16] = 0,000 000 000 001 \n",
      "\n",
      "\t[0][17] = femto \n",
      "\t[1][17] = f \n",
      "\t[2][17] = 10-15 \n",
      "\t[3][17] = 0,000 000 000 000 001 \n",
      "\n",
      "\t[0][18] = atto \n",
      "\t[1][18] = a \n",
      "\t[2][18] = 10-18 \n",
      "\t[3][18] = 0,000 000 000 000 000 001 \n",
      "\n",
      "\t[0][19] = zepto \n",
      "\t[1][19] = Z \n",
      "\t[2][19] = 10-21 \n",
      "\t[3][19] = 0,000 000 000 000 000 000 001 \n",
      "\n",
      "\t[0][20] = yocto \n",
      "\t[1][20] = Y \n",
      "\t[2][20] = 10-24 \n",
      "\t[3][20] = 0,000 000 000 000 000 000 000 001 \n",
      "\n"
     ]
    }
   ],
   "source": [
    "# 3ª imagem: um documento em pdf com todas as grandezas de tamanho (de 10e-24 a 10e24)\n",
    "reqDigImagem2 = textract.analyze_document(\n",
    "    # Informar o tipo de objeto que contém o documento esperado\n",
    "    Document = {\n",
    "        'S3Object': {\n",
    "            'Bucket': nomeBalde,\n",
    "            'Name': nomeImagem[2]\n",
    "        }\n",
    "    },\n",
    "    # Informar qual o tipo de documento vai ser analisado, no caso, um formulário\n",
    "    FeatureTypes = [\"TABLES\"]\n",
    ")\n",
    "doc = Document(reqDigImagem2)\n",
    "print('Informações reconhecidas da imagem \"{}\":'.format(nomeImagem[2]))\n",
    "\n",
    "# Iterar as páginas do arquivo\n",
    "nTabela = 0\n",
    "for pagina in doc.pages:\n",
    "    for tabela in pagina.tables:\n",
    "        print(\"Tabela {}:\".format(nTabela))\n",
    "        nTabela = nTabela +1\n",
    "        for y, linha in enumerate(tabela.rows):\n",
    "            for x, celula in enumerate(linha.cells):\n",
    "                print(\"\\t[{}][{}] = {}\".format(x, y, celula.text))\n",
    "            print()"
   ]
  },
  {
   "cell_type": "markdown",
   "id": "50843c21-18a8-4b49-8549-835faa9cad9b",
   "metadata": {},
   "source": [
    "RESULTADO: com excessão dos números escritos em potência de 10, as informações condizem com o documento original"
   ]
  },
  {
   "cell_type": "markdown",
   "id": "6fc44484-43c8-4a52-b312-91b0fb11d9e4",
   "metadata": {},
   "source": [
    "# 2º Teste para o AWS Textract\n",
    "\n",
    "Será levada em conta agora a capacidade que a ferramenta tem de identificar o texto, ou seja, serão usadas imagens de baixa qualidade (borradas, manuscritas, tortas, etc) para testar até onde o Textract consegue decifrar um texto.\n",
    "\n",
    "Para esse teste, foram adicionadas 16 novas imagens ao balde na plataforma AWS, conforme o padrão:\n",
    "- Texto manuscrito em letra de forma;\n",
    "- Mesmo texto em letra de forma, mas com a foto tremida;\n",
    "- Mesmo texto em letra de forma, mas com a foto torta;\n",
    "- Mesmo texto em letra de forma, mas com a foto tremida e torta;\n",
    "\n",
    "Os 4 tipos de imagem foram replicados para as caligrafias de forma em lápis, cursiva em lápis, de forma em caneta, cursiva em caneta, respectivamente.\n",
    "\n",
    "Todas as imagens possuem uma mesma frase aleatória para padronização: \"Janeiro tem 31 dias. Fevereiro tem 28 noites. Março tem 5 domingos. E Abril tem 4 segundas.\""
   ]
  },
  {
   "cell_type": "code",
   "execution_count": 42,
   "id": "954c5f44-f1fb-4dd4-a2b4-3839ea32b3de",
   "metadata": {},
   "outputs": [
    {
     "name": "stdout",
     "output_type": "stream",
     "text": [
      "['teste01-wallpaper.jpg', 'teste02-formulario.png', 'teste03-tabela.pdf', 'teste04-forma.jpg', 'teste05-forma-tremida.jpg', 'teste06-forma-torta.jpg', 'teste07-forma-tremida-torta.jpg', 'teste08-cursiva.jpg', 'teste09-cursiva-tremida.jpg', 'teste10-cursiva-torta.jpg', 'teste11-cursiva-tremida-torta.jpg', 'teste12-forma-caneta.jpg', 'teste13-forma-caneta-tremida.jpg', 'teste14-forma-caneta-torta.jpg', 'teste15-forma-caneta-tremida-torta.jpg', 'teste16-cursiva-caneta.jpg', 'teste17-cursiva-caneta-tremida.jpg', 'teste18-cursiva-caneta-torta.jpg', 'teste19-cursiva-caneta-tremida-torta.jpg']\n"
     ]
    }
   ],
   "source": [
    "# Atualizar o conjunto de imagens\n",
    "novaLista = [\n",
    "    'teste04-forma.jpg',\n",
    "    'teste05-forma-tremida.jpg',\n",
    "    'teste06-forma-torta.jpg',\n",
    "    'teste07-forma-tremida-torta.jpg',\n",
    "    'teste08-cursiva.jpg',\n",
    "    'teste09-cursiva-tremida.jpg',\n",
    "    'teste10-cursiva-torta.jpg',\n",
    "    'teste11-cursiva-tremida-torta.jpg',\n",
    "    'teste12-forma-caneta.jpg',\n",
    "    'teste13-forma-caneta-tremida.jpg',\n",
    "    'teste14-forma-caneta-torta.jpg',\n",
    "    'teste15-forma-caneta-tremida-torta.jpg',\n",
    "    'teste16-cursiva-caneta.jpg',\n",
    "    'teste17-cursiva-caneta-tremida.jpg',\n",
    "    'teste18-cursiva-caneta-torta.jpg',\n",
    "    'teste19-cursiva-caneta-tremida-torta.jpg',\n",
    "]\n",
    "for item in novaLista: nomeImagem.append(item)\n",
    "print(nomeImagem)"
   ]
  },
  {
   "cell_type": "code",
   "execution_count": 43,
   "id": "af2317e7-e934-4895-8f8c-971d7f18167d",
   "metadata": {},
   "outputs": [
    {
     "name": "stdout",
     "output_type": "stream",
     "text": [
      "Informações reconhecidas da imagem \"teste04-forma.jpg\":\n",
      "Linha 0: JANEiRO TEM 31\n",
      "Linha 1: DiAS. I FEVEREIRO\n",
      "Linha 2: TEM 28 NOTTES.\n",
      "Linha 3: MARCO TEM 5\n",
      "Linha 4: DOMINGOS. E ABRiL\n",
      "Linha 5: possui 4 SE GUNDA.\n"
     ]
    }
   ],
   "source": [
    "# Imagem 4 - Letra de forma, boa qualidade de imagem\n",
    "reqPadrao(nomeBalde, nomeImagem[3])"
   ]
  },
  {
   "cell_type": "markdown",
   "id": "0188d705-eb8b-41b8-b879-6949d8a79b15",
   "metadata": {},
   "source": [
    "RESULTADO: por conta da caligrafia, parte dos caracteres"
   ]
  },
  {
   "cell_type": "code",
   "execution_count": null,
   "id": "80e13964-d330-46d8-88bc-74382a9d79f6",
   "metadata": {},
   "outputs": [
    {
     "name": "stdout",
     "output_type": "stream",
     "text": [
      "Informações reconhecidas da imagem \"teste06-forma-torta.jpg\":\n",
      "Linha 0: JANEiRO TEM 31\n",
      "Linha 1: DiAS. FEVEREiRO\n",
      "Linha 2: TEM 28 NOiTES.\n",
      "Linha 3: MARCO TEM 5\n",
      "Linha 4: DOMINGOS. E ABRiL\n",
      "Linha 5: Possui 4 SE GUNDA.\n"
     ]
    }
   ],
   "source": [
    "# Imagem 5 - Letra de forma, imagem tremida\n",
    "reqPadrao(nomeBalde, nomeImagem[4])"
   ]
  },
  {
   "cell_type": "markdown",
   "id": "0ef682b6-2fdb-4021-9693-77a49b158a2f",
   "metadata": {},
   "source": [
    "RESULTADO: a qualidade da imagem atrapalhou bastante a identificação dos caractéres, fazendo perder alguns deles e gerando uma nova linha que não existe."
   ]
  },
  {
   "cell_type": "code",
   "execution_count": null,
   "id": "f246708a-0b74-42bc-97f7-85b09b3c4517",
   "metadata": {},
   "outputs": [
    {
     "name": "stdout",
     "output_type": "stream",
     "text": [
      "Informações reconhecidas da imagem \"teste07-forma-tremida-torta.jpg\":\n",
      "Linha 0: F8\n"
     ]
    }
   ],
   "source": [
    "# Imagem 6 - Letra de forma, imagem torta\n",
    "reqPadrao(nomeBalde, nomeImagem[5])"
   ]
  },
  {
   "cell_type": "markdown",
   "id": "429e7231-ed69-417e-a3fa-82c107233fbb",
   "metadata": {},
   "source": [
    "RESULTADO: mesmo resultado da imagem 4, tirar a foto de maneira torta não teve nenhum efeito."
   ]
  },
  {
   "cell_type": "code",
   "execution_count": null,
   "id": "c71b2c21-badb-4ec0-bc57-0503c2c51a41",
   "metadata": {},
   "outputs": [
    {
     "name": "stdout",
     "output_type": "stream",
     "text": [
      "Informações reconhecidas da imagem \"teste08-cursiva.jpg\":\n",
      "Linha 0: Laneira tem 31 diar.\n",
      "Linha 1: Fevereire tem 28 moi-\n",
      "Linha 2: ter. Marga tem 5\n",
      "Linha 3: domingos. E Abril\n",
      "Linha 4: possui 4 regundas.\n"
     ]
    }
   ],
   "source": [
    "# Imagem 7 - Letra de forma, imagem tremida e torta\n",
    "reqPadrao(nomeBalde, nomeImagem[6])"
   ]
  },
  {
   "cell_type": "markdown",
   "id": "637de557-970a-436d-8f5a-ad02f1bad4af",
   "metadata": {},
   "source": [
    "RESULTADO: a página torta com a foto tremida tornou impossível ler qualquer coisa"
   ]
  },
  {
   "cell_type": "code",
   "execution_count": null,
   "id": "103c0cbb-3aab-4e99-aaaf-edb19792acea",
   "metadata": {},
   "outputs": [
    {
     "name": "stdout",
     "output_type": "stream",
     "text": [
      "Informações reconhecidas da imagem \"teste05-forma-tremida.jpg\":\n",
      "Linha 0: JANEIRO TEA\n",
      "Linha 1: DiAS. FEVEREING\n",
      "Linha 2: TEM 28 NO:TES,\n",
      "Linha 3: MARCO TEM 5\n",
      "Linha 4: DOMINGOS. E ABR\n",
      "Linha 5: POSSUI 4 SE GUNDA\n",
      "Linha 6: S\n"
     ]
    }
   ],
   "source": [
    "# Imagem 8 - Letra de cursiva, boa qualidade de imagem\n",
    "reqPadrao(nomeBalde, nomeImagem[7])"
   ]
  },
  {
   "cell_type": "markdown",
   "id": "0975a599-33e4-46c1-87f1-1a1a3df7ad03",
   "metadata": {},
   "source": [
    "RESULTADO: a interferência da caligrafia foi maior ainda, a mensagem deixou de ter qualquer sentido. Os caractéres maiúsculos e minusculos das frases foram diferenciados."
   ]
  },
  {
   "cell_type": "code",
   "execution_count": 49,
   "id": "598f5d31-9eb4-402f-b392-752562bedc9d",
   "metadata": {},
   "outputs": [
    {
     "name": "stdout",
     "output_type": "stream",
     "text": [
      "Informações reconhecidas da imagem \"teste09-cursiva-tremida.jpg\":\n",
      "Linha 0: danline tem 31 dias.\n",
      "Linha 1: Invoice tem 28 moi-\n",
      "Linha 2: the Marca tem 5\n",
      "Linha 3: domingos. E Abril\n",
      "Linha 4: possion 4 regundar\n",
      "Linha 5: X\n"
     ]
    }
   ],
   "source": [
    "# Imagem 9 - Letra de cursiva, imagem tremida\n",
    "reqPadrao(nomeBalde, nomeImagem[8])"
   ]
  },
  {
   "cell_type": "markdown",
   "id": "5bf380b2",
   "metadata": {},
   "source": [
    "RESULTADO: a combinação da foto tremida com a caligrafia cursiva piorou a detecção da maioria dos carácteres, porém algumas poucas palavras ainda puderam ser identificadas."
   ]
  },
  {
   "cell_type": "code",
   "execution_count": 50,
   "id": "3f9ef619",
   "metadata": {},
   "outputs": [
    {
     "name": "stdout",
     "output_type": "stream",
     "text": [
      "Informações reconhecidas da imagem \"teste10-cursiva-torta.jpg\":\n",
      "Linha 0: F6\n",
      "Linha 1: F7\n",
      "Linha 2: F8\n"
     ]
    }
   ],
   "source": [
    "# Imagem 10 - Letra de cursiva, imagem torta\n",
    "reqPadrao(nomeBalde, nomeImagem[9])"
   ]
  },
  {
   "cell_type": "markdown",
   "id": "e825d890",
   "metadata": {},
   "source": [
    "RESULTADO: As palavras na letra cursiva não puderam ser reconhecidas, então o algoritmo tentou deduzir erroneamente alguma informação dos símbolos."
   ]
  },
  {
   "cell_type": "code",
   "execution_count": 51,
   "id": "1ea99c64",
   "metadata": {},
   "outputs": [
    {
     "name": "stdout",
     "output_type": "stream",
     "text": [
      "Informações reconhecidas da imagem \"teste11-cursiva-tremida-torta.jpg\":\n"
     ]
    }
   ],
   "source": [
    "# Imagem 11 - Letra de cursiva, imagem tremida e torta\n",
    "reqPadrao(nomeBalde, nomeImagem[10])"
   ]
  },
  {
   "cell_type": "markdown",
   "id": "723de9c4",
   "metadata": {},
   "source": [
    "RESULTADO: o algoritmo não teve a menor noção sobre nenhum dos símbolos escritos."
   ]
  },
  {
   "cell_type": "code",
   "execution_count": 52,
   "id": "a75d33f2",
   "metadata": {},
   "outputs": [
    {
     "name": "stdout",
     "output_type": "stream",
     "text": [
      "Informações reconhecidas da imagem \"teste12-forma-caneta.jpg\":\n",
      "Linha 0: JANEIRO TEM\n",
      "Linha 1: 31 DIAS. FEVEREI\n",
      "Linha 2: RO TEM 28 NOI-\n",
      "Linha 3: TES. MARCO TEM\n",
      "Linha 4: 5 DOMINGOS. E ABRiL\n",
      "Linha 5: POSSUi 4 SEGUNDAS.\n"
     ]
    }
   ],
   "source": [
    "# Imagem 12 - Letra de forma, boa qualidade de imagem\n",
    "reqPadrao(nomeBalde, nomeImagem[11])"
   ]
  },
  {
   "cell_type": "markdown",
   "id": "dbbdf2a7",
   "metadata": {},
   "source": [
    "RESULTADO: resultados mais claros que a caligrafia no papel, única letra confundida foi o 'ç'."
   ]
  },
  {
   "cell_type": "code",
   "execution_count": 53,
   "id": "07b50c47",
   "metadata": {},
   "outputs": [
    {
     "name": "stdout",
     "output_type": "stream",
     "text": [
      "Informações reconhecidas da imagem \"teste13-forma-caneta-tremida.jpg\":\n",
      "Linha 0: JANEIRO TEM\n",
      "Linha 1: 31 DIAS. FEVEREI-\n",
      "Linha 2: RO TEM 28 NOI-\n",
      "Linha 3: TES. MARÇO TEM\n",
      "Linha 4: 5 DOMINGOS. EABRIL\n",
      "Linha 5: POSSUi 4 SEGUNDAS\n"
     ]
    }
   ],
   "source": [
    "# Imagem 13 - Letra de forma, de caneta, imagem tremida\n",
    "reqPadrao(nomeBalde, nomeImagem[12])"
   ]
  },
  {
   "cell_type": "markdown",
   "id": "377939a4",
   "metadata": {},
   "source": [
    "RESULTADO: mesmo resultado que a foto normal."
   ]
  },
  {
   "cell_type": "code",
   "execution_count": 54,
   "id": "3604c541",
   "metadata": {},
   "outputs": [
    {
     "name": "stdout",
     "output_type": "stream",
     "text": [
      "Informações reconhecidas da imagem \"teste14-forma-caneta-torta.jpg\":\n"
     ]
    }
   ],
   "source": [
    "# Imagem 14 - Letra de forma, de caneta, imagem torta\n",
    "reqPadrao(nomeBalde, nomeImagem[13])"
   ]
  },
  {
   "cell_type": "markdown",
   "id": "14a2f338",
   "metadata": {},
   "source": [
    "RESULTADO: nenhum caractér pode ser reconhecido."
   ]
  },
  {
   "cell_type": "code",
   "execution_count": 55,
   "id": "f4c4b13a",
   "metadata": {},
   "outputs": [
    {
     "name": "stdout",
     "output_type": "stream",
     "text": [
      "Informações reconhecidas da imagem \"teste15-forma-caneta-tremida-torta.jpg\":\n"
     ]
    }
   ],
   "source": [
    "# Imagem 15 - Letra de forma, de caneta, imagem tremida e torta\n",
    "reqPadrao(nomeBalde, nomeImagem[14])"
   ]
  },
  {
   "cell_type": "markdown",
   "id": "ffbf2a8e",
   "metadata": {},
   "source": [
    "RESULTADO: nenhum caractér pode ser reconhecido."
   ]
  },
  {
   "cell_type": "code",
   "execution_count": 56,
   "id": "efaf910a",
   "metadata": {},
   "outputs": [
    {
     "name": "stdout",
     "output_type": "stream",
     "text": [
      "Informações reconhecidas da imagem \"teste16-cursiva-caneta.jpg\":\n",
      "Linha 0: \" Laneira tem 31 dias.\n",
      "Linha 1: Ferrreira tem 28 noites.\n",
      "Linha 2: Marca tem 5 domingos.\n",
      "Linha 3: E abril porrui 4 regun-\n",
      "Linha 4: das.\n"
     ]
    }
   ],
   "source": [
    "# Imagem 16 - Letra de cursiva, de caneta, boa qualidade de imagem\n",
    "reqPadrao(nomeBalde, nomeImagem[15])"
   ]
  },
  {
   "cell_type": "markdown",
   "id": "5ab34311",
   "metadata": {},
   "source": [
    "RESULTADO: mesmo resultado que a caligradia em lápis, tirando as aspas no início, que não existem no original."
   ]
  },
  {
   "cell_type": "code",
   "execution_count": 57,
   "id": "1b59630c",
   "metadata": {},
   "outputs": [
    {
     "name": "stdout",
     "output_type": "stream",
     "text": [
      "Informações reconhecidas da imagem \"teste17-cursiva-caneta-tremida.jpg\":\n",
      "Linha 0: Janeira tem 31 dias.\n",
      "Linha 1: Ferrreira tem 28 noites.\n",
      "Linha 2: Marca tem 5 domingor\n",
      "Linha 3: E abril porrui 4 regun\n",
      "Linha 4: dar.\n"
     ]
    }
   ],
   "source": [
    "# Imagem 17 - Letra de cursiva, de caneta, imagem tremida\n",
    "reqPadrao(nomeBalde, nomeImagem[16])"
   ]
  },
  {
   "cell_type": "markdown",
   "id": "74891d64",
   "metadata": {},
   "source": [
    "RESULTADO: sem muitas alterações em relação ao lápis"
   ]
  },
  {
   "cell_type": "code",
   "execution_count": 58,
   "id": "6e4879e5",
   "metadata": {},
   "outputs": [
    {
     "name": "stdout",
     "output_type": "stream",
     "text": [
      "Informações reconhecidas da imagem \"teste18-cursiva-caneta-torta.jpg\":\n"
     ]
    }
   ],
   "source": [
    "# Imagem 18 - Letra de cursiva, de caneta, imagem torta\n",
    "reqPadrao(nomeBalde, nomeImagem[17])"
   ]
  },
  {
   "cell_type": "markdown",
   "id": "b1ecc316",
   "metadata": {},
   "source": [
    "RESULTADO: nenhum caractér pode ser reconhecido."
   ]
  },
  {
   "cell_type": "code",
   "execution_count": 59,
   "id": "7a61b4f5",
   "metadata": {},
   "outputs": [
    {
     "name": "stdout",
     "output_type": "stream",
     "text": [
      "Informações reconhecidas da imagem \"teste19-cursiva-caneta-tremida-torta.jpg\":\n",
      "Linha 0: Laneira tem 31 dias.\n",
      "Linha 1: Marga tem 5 damingon.\n",
      "Linha 2: Everura tem 28 smailer noites,\n",
      "Linha 3: des. Edvil possui Iregun\n"
     ]
    }
   ],
   "source": [
    "# Imagem 19 - Letra de cursiva, de caneta, imagem tremida e torta\n",
    "reqPadrao(nomeBalde, nomeImagem[18])"
   ]
  },
  {
   "cell_type": "markdown",
   "id": "9da8302e",
   "metadata": {},
   "source": [
    "RESULTADO: Ao contrário do esperado, a foto com mais distorções funcionou da mesma maneira que a original."
   ]
  }
 ],
 "metadata": {
  "kernelspec": {
   "display_name": "Python 3",
   "language": "python",
   "name": "python3"
  },
  "language_info": {
   "codemirror_mode": {
    "name": "ipython",
    "version": 3
   },
   "file_extension": ".py",
   "mimetype": "text/x-python",
   "name": "python",
   "nbconvert_exporter": "python",
   "pygments_lexer": "ipython3",
   "version": "3.13.1"
  }
 },
 "nbformat": 4,
 "nbformat_minor": 5
}
