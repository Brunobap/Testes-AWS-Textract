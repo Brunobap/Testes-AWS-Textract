{
 "cells": [
  {
   "cell_type": "markdown",
   "id": "b06dbd18-d302-4ae9-96f7-b384143c7b45",
   "metadata": {},
   "source": [
    "# 1º teste para o AWS Textract\n",
    "\n",
    "Uso direto da API do SDK da Amazon com a linguagem Python\n",
    "\n",
    "Pré-procedimento:\n",
    "- Baixar o AWS CLI ()\n",
    "- Baixar o SDK Python da AWS (Boto3)\n",
    "- Configurar com o comando de linha \"aws configure\". *Procedimento detalhado nas anotações sobre o Textract\n",
    "- Configurar um balde simples (S3) de informações nos serviços da AWS, para enviar/puxar os documentos\n",
    "- Baixar o pacote da AWS com o pip (\"!pip install botocore\" e \"!pip install boto3\")\n",
    "  * Sempre instalar o core primeiro, e com a exclamação de persistência no começo, senão dá problema *\n",
    " \n",
    "### Fonte: <https://www.youtube.com/watch?v=-SpHPW3RTx8>"
   ]
  },
  {
   "cell_type": "code",
   "execution_count": 1,
   "id": "75e68b30-b5d5-4d2d-b552-ad4fd4352434",
   "metadata": {},
   "outputs": [
    {
     "name": "stdout",
     "output_type": "stream",
     "text": [
      "Requirement already satisfied: botocore in d:\\users\\bruno\\anaconda3\\lib\\site-packages (1.36.19)\n",
      "Requirement already satisfied: jmespath<2.0.0,>=0.7.1 in d:\\users\\bruno\\anaconda3\\lib\\site-packages (from botocore) (1.0.1)\n",
      "Requirement already satisfied: python-dateutil<3.0.0,>=2.1 in d:\\users\\bruno\\anaconda3\\lib\\site-packages (from botocore) (2.9.0.post0)\n",
      "Requirement already satisfied: urllib3!=2.2.0,<3,>=1.25.4 in d:\\users\\bruno\\anaconda3\\lib\\site-packages (from botocore) (2.2.3)\n",
      "Requirement already satisfied: six>=1.5 in d:\\users\\bruno\\anaconda3\\lib\\site-packages (from python-dateutil<3.0.0,>=2.1->botocore) (1.16.0)\n"
     ]
    }
   ],
   "source": [
    "!pip install botocore"
   ]
  },
  {
   "cell_type": "code",
   "execution_count": 2,
   "id": "89fb6337-31ef-4ae1-96db-fa0521533f35",
   "metadata": {
    "scrolled": true
   },
   "outputs": [
    {
     "name": "stdout",
     "output_type": "stream",
     "text": [
      "Requirement already satisfied: boto3 in d:\\users\\bruno\\anaconda3\\lib\\site-packages (1.36.19)\n",
      "Requirement already satisfied: botocore<1.37.0,>=1.36.19 in d:\\users\\bruno\\anaconda3\\lib\\site-packages (from boto3) (1.36.19)\n",
      "Requirement already satisfied: jmespath<2.0.0,>=0.7.1 in d:\\users\\bruno\\anaconda3\\lib\\site-packages (from boto3) (1.0.1)\n",
      "Requirement already satisfied: s3transfer<0.12.0,>=0.11.0 in d:\\users\\bruno\\anaconda3\\lib\\site-packages (from boto3) (0.11.2)\n",
      "Requirement already satisfied: python-dateutil<3.0.0,>=2.1 in d:\\users\\bruno\\anaconda3\\lib\\site-packages (from botocore<1.37.0,>=1.36.19->boto3) (2.9.0.post0)\n",
      "Requirement already satisfied: urllib3!=2.2.0,<3,>=1.25.4 in d:\\users\\bruno\\anaconda3\\lib\\site-packages (from botocore<1.37.0,>=1.36.19->boto3) (2.2.3)\n",
      "Requirement already satisfied: six>=1.5 in d:\\users\\bruno\\anaconda3\\lib\\site-packages (from python-dateutil<3.0.0,>=2.1->botocore<1.37.0,>=1.36.19->boto3) (1.16.0)\n"
     ]
    }
   ],
   "source": [
    "!pip install boto3"
   ]
  },
  {
   "cell_type": "code",
   "execution_count": 3,
   "id": "9720bdfd",
   "metadata": {},
   "outputs": [
    {
     "name": "stdout",
     "output_type": "stream",
     "text": [
      "Requirement already satisfied: textract-trp in d:\\users\\bruno\\anaconda3\\lib\\site-packages (0.1.3)\n"
     ]
    }
   ],
   "source": [
    "!pip install textract-trp"
   ]
  },
  {
   "cell_type": "code",
   "execution_count": 6,
   "id": "d4d10427-4921-406c-ae53-35d51768dc8b",
   "metadata": {
    "scrolled": true
   },
   "outputs": [],
   "source": [
    "import boto3\n",
    "# Biblioteca para a manipulação de Documentos processados pelo Texract\n",
    "from trp import Document\n",
    "\n",
    "# Salvar o nome do balde que será usado para guardar as imagens\n",
    "# E das imagems de teste usada\n",
    "nomeBalde = \"buck-textract\"\n",
    "nomeImagem = [\n",
    "    'teste01-wallpaper.jpg',\n",
    "    'teste02-formulario.png',\n",
    "    'teste03-tabela.pdf'\n",
    "]\n",
    "\n",
    "# Iniciar a seção com o usuário remoto\n",
    "secao = boto3.session.Session()\n",
    "\n",
    "# Importar a biblioteca dos serviços usados (Textract, Balde S3)\n",
    "s3 = secao.client(\"s3\")\n",
    "textract = secao.client(\"textract\")"
   ]
  },
  {
   "cell_type": "code",
   "execution_count": 7,
   "id": "621abce9-eb00-4dee-ad80-b04dbb6a168f",
   "metadata": {
    "scrolled": true
   },
   "outputs": [
    {
     "name": "stdout",
     "output_type": "stream",
     "text": [
      "{'ResponseMetadata': {'RequestId': 'X5KGCAGPGSXQE0SW', 'HostId': 'IpyZcWqgLGMrutQoUf9UL/dBZF4wL04u32/UEHGept8zrGw3d+iGmX66jb6d2J2q2cEBmTgnSrs3YsIyyvGHUw==', 'HTTPStatusCode': 200, 'HTTPHeaders': {'x-amz-id-2': 'IpyZcWqgLGMrutQoUf9UL/dBZF4wL04u32/UEHGept8zrGw3d+iGmX66jb6d2J2q2cEBmTgnSrs3YsIyyvGHUw==', 'x-amz-request-id': 'X5KGCAGPGSXQE0SW', 'date': 'Sat, 15 Feb 2025 01:17:43 GMT', 'last-modified': 'Wed, 22 Jan 2025 20:02:51 GMT', 'etag': '\"9c6b7ec23bf7bc479c172f7ca1296f5b\"', 'x-amz-checksum-crc64nvme': 'Lz1tNQHo++U=', 'x-amz-checksum-type': 'FULL_OBJECT', 'x-amz-server-side-encryption': 'AES256', 'accept-ranges': 'bytes', 'content-type': 'image/png', 'content-length': '118637', 'server': 'AmazonS3'}, 'RetryAttempts': 0}, 'AcceptRanges': 'bytes', 'LastModified': datetime.datetime(2025, 1, 22, 20, 2, 51, tzinfo=tzutc()), 'ContentLength': 118637, 'ETag': '\"9c6b7ec23bf7bc479c172f7ca1296f5b\"', 'ChecksumCRC64NVME': 'Lz1tNQHo++U=', 'ChecksumType': 'FULL_OBJECT', 'ContentType': 'image/png', 'ServerSideEncryption': 'AES256', 'Metadata': {}, 'Body': <botocore.response.StreamingBody object at 0x0000016B14083220>}\n"
     ]
    }
   ],
   "source": [
    "# Teste da API AWS: Requisitar uma imagem de teste de dentro do balde\n",
    "reqImagem = s3.get_object(Bucket=nomeBalde, Key=nomeImagem[1])\n",
    "print(reqImagem)"
   ]
  },
  {
   "cell_type": "code",
   "execution_count": 8,
   "id": "60fe657d-87a2-4170-bd45-edfe3ad263de",
   "metadata": {},
   "outputs": [
    {
     "name": "stdout",
     "output_type": "stream",
     "text": [
      "Informações reconhecidas da imagem \"teste01-wallpaper.jpg\":\n",
      "Linha 0: ASBESTOS\n",
      "Linha 1: APERTURE\n",
      "Linha 2: SCIENCE INNOVATORS\n"
     ]
    }
   ],
   "source": [
    "# Com a confirmação de que a imagem está lá, fazer a leitura da imagem com o Textract\n",
    "# 1ª imagem: Wallpaper com as frases:\n",
    "\"\"\"\n",
    "    - SALT - ASBESTOS - CURTAIN\n",
    "    - APERTURE\n",
    "    - SCIENCE INNOVATORS\n",
    "\"\"\"\n",
    "# OBS: Função 'detect_document_text' só lê as linhas de texto puras do documento\n",
    "# Função geral para ler textos no modo padrão\n",
    "def reqPadrao(balde,imagem):\n",
    "    reqDigImagem0 = textract.detect_document_text(\n",
    "        # Informar o tipo de objeto que contém o documento esperado\n",
    "        Document = {\n",
    "            'S3Object': {\n",
    "                'Bucket': balde,\n",
    "                'Name': imagem\n",
    "            }\n",
    "        }\n",
    "    )\n",
    "    print('Informações reconhecidas da imagem \"{}\":'.format(nomeImagem[0]))\n",
    "    \n",
    "    # Iterar as páginas do arquivo\n",
    "    linha = 0\n",
    "    for bloco in reqDigImagem0['Blocks']:\n",
    "        if bloco[\"BlockType\"] == \"LINE\":\n",
    "            print(\"Linha {}: {}\".format(linha, bloco[\"Text\"]))\n",
    "            linha = linha +1\n",
    "\n",
    "# Chamar a função para a 1a imagem\n",
    "reqPadrao(nomeBalde, nomeImagem[0])"
   ]
  },
  {
   "cell_type": "markdown",
   "id": "a4b77996-a5df-42a7-a5b6-ce90f4d72e57",
   "metadata": {},
   "source": [
    "RESULTADO: Faltam algumas palavras, elas estão curvadas e de lado"
   ]
  },
  {
   "cell_type": "code",
   "execution_count": 9,
   "id": "efcedc84",
   "metadata": {},
   "outputs": [
    {
     "name": "stdout",
     "output_type": "stream",
     "text": [
      "Informações reconhecidas da imagem \"teste02-formulario.png\":\n",
      "Chave 'Envie um e-mail para O usuário com as instruções para configuração da senha.' - Valor 'SELECTED'\n",
      "Chave 'Nome' - Valor 'Insira o nome'\n",
      "Chave 'Confirmar endereço de e-mail' - Valor 'email@example.com'\n",
      "Chave 'Endereço de e-mail' - Valor 'email@example.com'\n",
      "Chave 'Gere uma senha única que possa ser compartilhada com este usuário.' - Valor 'NOT_SELECTED'\n",
      "Chave 'Nome do usuário' - Valor 'Esse nome de usuário será necessário para que esse usuário faça login no AWS access portal. O nome de usuário não pode ser alterado posteriormente. Insira O nome de usuário'\n"
     ]
    }
   ],
   "source": [
    "# 2ª imagem: screenshot do formulário de criação de usuário IAM da AWS, com os inputs:\n",
    "\"\"\"\n",
    "    - Nome do usuário\n",
    "    - Senha (radio button)\n",
    "    - Endereço de email\n",
    "    - Confirmar Endereço de email\n",
    "    - Nome\n",
    "\"\"\"\n",
    "# OBS: a função 'analyze_document' vai pegar as informações do documento de acordo com um modelo\n",
    "reqDigImagem1 = textract.analyze_document(\n",
    "    # Informar o tipo de objeto que contém o documento esperado\n",
    "    Document = {\n",
    "        'S3Object': {\n",
    "            'Bucket': nomeBalde,\n",
    "            'Name': nomeImagem[1]\n",
    "        }\n",
    "    },\n",
    "    # Informar qual o tipo de documento vai ser analisado, no caso, um formulário\n",
    "    FeatureTypes = [\"FORMS\"]\n",
    ")\n",
    "doc = Document(reqDigImagem1)\n",
    "print('Informações reconhecidas da imagem \"{}\":'.format(nomeImagem[1]))\n",
    "\n",
    "# Iterar as páginas do arquivo\n",
    "for pagina in doc.pages:\n",
    "    for campo in pagina.form.fields:\n",
    "        print(\"Chave '{}' - Valor '{}'\".format(campo.key, campo.value))"
   ]
  },
  {
   "cell_type": "markdown",
   "id": "711c84aa-0e22-4968-8cdd-c8049abbff34",
   "metadata": {},
   "source": [
    "RESULTADO: Todas as informções condizem com o documento original"
   ]
  },
  {
   "cell_type": "code",
   "execution_count": 10,
   "id": "5bd3a2d0",
   "metadata": {
    "scrolled": true
   },
   "outputs": [
    {
     "name": "stdout",
     "output_type": "stream",
     "text": [
      "Informações reconhecidas da imagem \"teste03-tabela.pdf\":\n",
      "Tabela 0:\n",
      "\t[0][0] = NOME \n",
      "\t[1][0] = SIMBOLO \n",
      "\t[2][0] = POTENCIA \n",
      "\t[3][0] = NUMERO \n",
      "\n",
      "\t[0][1] = yotta \n",
      "\t[1][1] = Y \n",
      "\t[2][1] = 1024 \n",
      "\t[3][1] = 1 000 000 000 000 000 000 000 000 \n",
      "\n",
      "\t[0][2] = zetta \n",
      "\t[1][2] = Z \n",
      "\t[2][2] = 1021 \n",
      "\t[3][2] = 1000 000 000 000 000 000 000 \n",
      "\n",
      "\t[0][3] = exa \n",
      "\t[1][3] = E \n",
      "\t[2][3] = 1018 \n",
      "\t[3][3] = 1000 000 000 000 000 000 \n",
      "\n",
      "\t[0][4] = peta \n",
      "\t[1][4] = P \n",
      "\t[2][4] = 1015 \n",
      "\t[3][4] = 1 000 000000 000 000 \n",
      "\n",
      "\t[0][5] = tera \n",
      "\t[1][5] = T \n",
      "\t[2][5] = 1012 \n",
      "\t[3][5] = 000 000 000 000 \n",
      "\n",
      "\t[0][6] = giga \n",
      "\t[1][6] = G \n",
      "\t[2][6] = 10° \n",
      "\t[3][6] = 1000 000 000 \n",
      "\n",
      "\t[0][7] = mega \n",
      "\t[1][7] = M \n",
      "\t[2][7] = 106 \n",
      "\t[3][7] = 1000000 \n",
      "\n",
      "\t[0][8] = quilo \n",
      "\t[1][8] = K \n",
      "\t[2][8] = 103 \n",
      "\t[3][8] = 1000 \n",
      "\n",
      "\t[0][9] = hecto \n",
      "\t[1][9] = H \n",
      "\t[2][9] = 102 \n",
      "\t[3][9] = 100 \n",
      "\n",
      "\t[0][10] = deca \n",
      "\t[1][10] = Da \n",
      "\t[2][10] = 101 \n",
      "\t[3][10] = 10 \n",
      "\n",
      "\t[0][11] = deci \n",
      "\t[1][11] = d \n",
      "\t[2][11] = 10-1 \n",
      "\t[3][11] = 0,1 \n",
      "\n",
      "\t[0][12] = centi \n",
      "\t[1][12] = C \n",
      "\t[2][12] = 10-2 \n",
      "\t[3][12] = 0,01 \n",
      "\n",
      "\t[0][13] = mili \n",
      "\t[1][13] = m \n",
      "\t[2][13] = 10 \n",
      "\t[3][13] = 0,001 \n",
      "\n",
      "\t[0][14] = micro \n",
      "\t[1][14] = J \n",
      "\t[2][14] = 10-6 \n",
      "\t[3][14] = 0,000 001 \n",
      "\n",
      "\t[0][15] = nano \n",
      "\t[1][15] = n \n",
      "\t[2][15] = 10-9 \n",
      "\t[3][15] = 0,000 000 001 \n",
      "\n",
      "\t[0][16] = pico \n",
      "\t[1][16] = p \n",
      "\t[2][16] = 10-12 \n",
      "\t[3][16] = 0,000 000 000 001 \n",
      "\n",
      "\t[0][17] = femto \n",
      "\t[1][17] = f \n",
      "\t[2][17] = 10-15 \n",
      "\t[3][17] = 0,000 000 000 000 001 \n",
      "\n",
      "\t[0][18] = atto \n",
      "\t[1][18] = a \n",
      "\t[2][18] = 10-18 \n",
      "\t[3][18] = 0,000 000 000 000 000 001 \n",
      "\n",
      "\t[0][19] = zepto \n",
      "\t[1][19] = Z \n",
      "\t[2][19] = 10-21 \n",
      "\t[3][19] = 0,000 000 000 000 000 000 001 \n",
      "\n",
      "\t[0][20] = yocto \n",
      "\t[1][20] = Y \n",
      "\t[2][20] = 10-24 \n",
      "\t[3][20] = 0,000 000 000 000 000 000 000 001 \n",
      "\n"
     ]
    }
   ],
   "source": [
    "# 3ª imagem: um documento em pdf com todas as grandezas de tamanho (de 10e-24 a 10e24)\n",
    "reqDigImagem2 = textract.analyze_document(\n",
    "    # Informar o tipo de objeto que contém o documento esperado\n",
    "    Document = {\n",
    "        'S3Object': {\n",
    "            'Bucket': nomeBalde,\n",
    "            'Name': nomeImagem[2]\n",
    "        }\n",
    "    },\n",
    "    # Informar qual o tipo de documento vai ser analisado, no caso, um formulário\n",
    "    FeatureTypes = [\"TABLES\"]\n",
    ")\n",
    "doc = Document(reqDigImagem2)\n",
    "print('Informações reconhecidas da imagem \"{}\":'.format(nomeImagem[2]))\n",
    "\n",
    "# Iterar as páginas do arquivo\n",
    "nTabela = 0\n",
    "for pagina in doc.pages:\n",
    "    for tabela in pagina.tables:\n",
    "        print(\"Tabela {}:\".format(nTabela))\n",
    "        nTabela = nTabela +1\n",
    "        for y, linha in enumerate(tabela.rows):\n",
    "            for x, celula in enumerate(linha.cells):\n",
    "                print(\"\\t[{}][{}] = {}\".format(x, y, celula.text))\n",
    "            print()"
   ]
  },
  {
   "cell_type": "markdown",
   "id": "50843c21-18a8-4b49-8549-835faa9cad9b",
   "metadata": {},
   "source": [
    "RESULTADO: com excessão dos números escritos em potência de 10, as informações condizem com o documento original"
   ]
  },
  {
   "cell_type": "markdown",
   "id": "6fc44484-43c8-4a52-b312-91b0fb11d9e4",
   "metadata": {},
   "source": [
    "# 2º Teste para o AWS Textract\n",
    "\n",
    "Será levada em conta agora a capacidade que a ferramenta tem de identificar o texto, ou seja, serão usadas imagens de baixa qualidade (borradas, manuscritas, tortas, etc) para testar até onde o Textract consegue decifrar um texto.\n",
    "\n",
    "Para esse teste, foram adicionadas 3 novas imagens ao balde na plataforma AWS:\n",
    "- Texto manuscrito em letra de forma;\n",
    "- Texto manuscrito em letra cursiva;\n",
    "- Mesmo texto em letra de forma, mas com a foto tremida;\n",
    "- Mesmo texto em letra de forma, mas com a foto torta;\n",
    "- Mesmo texto em letra de forma, mas com a foto tremida e torta;\n",
    "\n",
    "Todas as imagens possuem uma mesma frase aleatória para padronização: \"Janeiro tem 31 dias. Fevereiro tem 28 noites. Março tem 5 domingos. E Abril tem 4 segundas.\""
   ]
  },
  {
   "cell_type": "code",
   "execution_count": 11,
   "id": "954c5f44-f1fb-4dd4-a2b4-3839ea32b3de",
   "metadata": {},
   "outputs": [
    {
     "name": "stdout",
     "output_type": "stream",
     "text": [
      "['teste01-wallpaper.jpg', 'teste02-formulario.png', 'teste03-tabela.pdf', 'teste04-forma.jpg', 'teste05-cursiva.jpg', 'teste06-tremida.jpg', 'teste07-torta.jpg', 'teste08-tremida-torta.jpg']\n"
     ]
    }
   ],
   "source": [
    "# Atualizar o conjunto de imagens\n",
    "novaLista = [\n",
    "    'teste04-forma.jpg',\n",
    "    'teste05-cursiva.jpg',\n",
    "    'teste06-tremida.jpg',\n",
    "    'teste07-torta.jpg',\n",
    "    'teste08-tremida-torta.jpg',\n",
    "]\n",
    "for item in novaLista: nomeImagem.append(item)\n",
    "print(nomeImagem)"
   ]
  },
  {
   "cell_type": "code",
   "execution_count": 12,
   "id": "af2317e7-e934-4895-8f8c-971d7f18167d",
   "metadata": {},
   "outputs": [
    {
     "name": "stdout",
     "output_type": "stream",
     "text": [
      "Informações reconhecidas da imagem \"teste01-wallpaper.jpg\":\n",
      "Linha 0: JANEiRO TEM 31\n",
      "Linha 1: DiAS. I FEVEREIRO\n",
      "Linha 2: TEM 28 NOTTES.\n",
      "Linha 3: MARCO TEM 5\n",
      "Linha 4: DOMINGOS. E ABRiL\n",
      "Linha 5: possui 4 SE GUNDA.\n"
     ]
    }
   ],
   "source": [
    "# Imagem 4 - Letra de forma, boa qualidade de imagem\n",
    "reqPadrao(nomeBalde, nomeImagem[3])"
   ]
  },
  {
   "cell_type": "markdown",
   "id": "0188d705-eb8b-41b8-b879-6949d8a79b15",
   "metadata": {},
   "source": [
    "RESULTADO: por conta da caligrafia, parte dos caracteres"
   ]
  },
  {
   "cell_type": "code",
   "execution_count": 13,
   "id": "103c0cbb-3aab-4e99-aaaf-edb19792acea",
   "metadata": {},
   "outputs": [
    {
     "name": "stdout",
     "output_type": "stream",
     "text": [
      "Informações reconhecidas da imagem \"teste01-wallpaper.jpg\":\n",
      "Linha 0: Laneira tem 31 diar.\n",
      "Linha 1: Fevereire tem 28 moi-\n",
      "Linha 2: ter. Marga tem 5\n",
      "Linha 3: domingos. E Abril\n",
      "Linha 4: possui 4 regundas.\n"
     ]
    }
   ],
   "source": [
    "# Imagem 5 - Letra de cursiva, boa qualidade de imagem\n",
    "reqPadrao(nomeBalde, nomeImagem[4])"
   ]
  },
  {
   "cell_type": "markdown",
   "id": "0975a599-33e4-46c1-87f1-1a1a3df7ad03",
   "metadata": {},
   "source": [
    "RESULTADO: a interferência da caligrafia foi maior ainda, a mensagem deixou de ter qualquer sentido. Os caractéres maiúsculos e minusculos das frases foram diferenciados."
   ]
  },
  {
   "cell_type": "code",
   "execution_count": 14,
   "id": "80e13964-d330-46d8-88bc-74382a9d79f6",
   "metadata": {},
   "outputs": [
    {
     "name": "stdout",
     "output_type": "stream",
     "text": [
      "Informações reconhecidas da imagem \"teste01-wallpaper.jpg\":\n",
      "Linha 0: JANEIRO TEA\n",
      "Linha 1: DiAS. FEVEREING\n",
      "Linha 2: TEM 28 NO:TES,\n",
      "Linha 3: MARCO TEM 5\n",
      "Linha 4: DOMINGOS. E ABR\n",
      "Linha 5: POSSUI 4 SE GUNDA\n",
      "Linha 6: S\n"
     ]
    }
   ],
   "source": [
    "# Imagem 6 - Letra de forma, imagem tremida\n",
    "reqPadrao(nomeBalde, nomeImagem[5])"
   ]
  },
  {
   "cell_type": "markdown",
   "id": "0ef682b6-2fdb-4021-9693-77a49b158a2f",
   "metadata": {},
   "source": [
    "RESULTADO: a qualidade da imagem atrapalhou bastante a identificação dos caractéres, fazendo perder alguns deles e gerando uma nova linha que não existe."
   ]
  },
  {
   "cell_type": "code",
   "execution_count": 17,
   "id": "f246708a-0b74-42bc-97f7-85b09b3c4517",
   "metadata": {},
   "outputs": [
    {
     "name": "stdout",
     "output_type": "stream",
     "text": [
      "Informações reconhecidas da imagem \"teste01-wallpaper.jpg\":\n",
      "Linha 0: JANEiRO TEM 31\n",
      "Linha 1: DiAS. FEVEREiRO\n",
      "Linha 2: TEM 28 NOiTES.\n",
      "Linha 3: MARCO TEM 5\n",
      "Linha 4: DOMINGOS. E ABRiL\n",
      "Linha 5: Possui 4 SE GUNDA.\n"
     ]
    }
   ],
   "source": [
    "# Imagem 7 - Letra de forma, imagem torta\n",
    "reqPadrao(nomeBalde, nomeImagem[6])"
   ]
  },
  {
   "cell_type": "markdown",
   "id": "429e7231-ed69-417e-a3fa-82c107233fbb",
   "metadata": {},
   "source": [
    "RESULTADO: mesmo resultado da imagem 4, tirar a foto de maneira torta não teve nenhum efeito."
   ]
  },
  {
   "cell_type": "code",
   "execution_count": 18,
   "id": "c71b2c21-badb-4ec0-bc57-0503c2c51a41",
   "metadata": {},
   "outputs": [
    {
     "name": "stdout",
     "output_type": "stream",
     "text": [
      "Informações reconhecidas da imagem \"teste01-wallpaper.jpg\":\n",
      "Linha 0: F8\n"
     ]
    }
   ],
   "source": [
    "# Imagem 8 - Letra de forma, imagem tremida e torta\n",
    "reqPadrao(nomeBalde, nomeImagem[7])"
   ]
  },
  {
   "cell_type": "markdown",
   "id": "637de557-970a-436d-8f5a-ad02f1bad4af",
   "metadata": {},
   "source": [
    "RESULTADO: a página torta com a foto tremida tornou impossível ler qualquer coisa"
   ]
  },
  {
   "cell_type": "code",
   "execution_count": null,
   "id": "598f5d31-9eb4-402f-b392-752562bedc9d",
   "metadata": {},
   "outputs": [],
   "source": []
  }
 ],
 "metadata": {
  "kernelspec": {
   "display_name": "Python 3 (ipykernel)",
   "language": "python",
   "name": "python3"
  },
  "language_info": {
   "codemirror_mode": {
    "name": "ipython",
    "version": 3
   },
   "file_extension": ".py",
   "mimetype": "text/x-python",
   "name": "python",
   "nbconvert_exporter": "python",
   "pygments_lexer": "ipython3",
   "version": "3.12.7"
  }
 },
 "nbformat": 4,
 "nbformat_minor": 5
}
