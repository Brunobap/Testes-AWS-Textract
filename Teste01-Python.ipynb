{
 "cells": [
  {
   "cell_type": "markdown",
   "id": "b06dbd18-d302-4ae9-96f7-b384143c7b45",
   "metadata": {},
   "source": [
    "# 1º teste para o AWS Textract\n",
    "\n",
    "Uso direto da API do SDK da Amazon com a linguagem Python\n",
    "\n",
    "Pré-procedimento:\n",
    "- Baixar o AWS CLI ()\n",
    "- Baixar o SDK Python da AWS (Boto3)\n",
    "- Configurar com o comando de linha \"aws configure\". *Procedimento detalhado nas anotações sobre o Textract\n",
    "- Configurar um balde simples (S3) de informações nos serviços da AWS, para enviar/puxar os documentos\n",
    "- Baixar o pacote da AWS com o pip (\"!pip install botocore\" e \"!pip install boto3\")\n",
    "  * Sempre instalar o core primeiro, e com a exclamação de persistência no começo, senão dá problema *\n",
    " \n",
    "### Fonte: <https://www.youtube.com/watch?v=-SpHPW3RTx8>"
   ]
  },
  {
   "cell_type": "code",
   "execution_count": 1,
   "id": "75e68b30-b5d5-4d2d-b552-ad4fd4352434",
   "metadata": {},
   "outputs": [
    {
     "name": "stdout",
     "output_type": "stream",
     "text": [
      "Requirement already satisfied: botocore in d:\\users\\bruno\\anaconda3\\lib\\site-packages (1.36.2)\n",
      "Requirement already satisfied: jmespath<2.0.0,>=0.7.1 in d:\\users\\bruno\\anaconda3\\lib\\site-packages (from botocore) (1.0.1)\n",
      "Requirement already satisfied: python-dateutil<3.0.0,>=2.1 in d:\\users\\bruno\\anaconda3\\lib\\site-packages (from botocore) (2.9.0.post0)\n",
      "Requirement already satisfied: urllib3!=2.2.0,<3,>=1.25.4 in d:\\users\\bruno\\anaconda3\\lib\\site-packages (from botocore) (2.0.7)\n",
      "Requirement already satisfied: six>=1.5 in d:\\users\\bruno\\anaconda3\\lib\\site-packages (from python-dateutil<3.0.0,>=2.1->botocore) (1.16.0)\n"
     ]
    }
   ],
   "source": [
    "!pip install botocore"
   ]
  },
  {
   "cell_type": "code",
   "execution_count": 2,
   "id": "89fb6337-31ef-4ae1-96db-fa0521533f35",
   "metadata": {},
   "outputs": [
    {
     "name": "stdout",
     "output_type": "stream",
     "text": [
      "Requirement already satisfied: boto3 in d:\\users\\bruno\\anaconda3\\lib\\site-packages (1.36.2)\n",
      "Requirement already satisfied: botocore<1.37.0,>=1.36.2 in d:\\users\\bruno\\anaconda3\\lib\\site-packages (from boto3) (1.36.2)\n",
      "Requirement already satisfied: jmespath<2.0.0,>=0.7.1 in d:\\users\\bruno\\anaconda3\\lib\\site-packages (from boto3) (1.0.1)\n",
      "Requirement already satisfied: s3transfer<0.12.0,>=0.11.0 in d:\\users\\bruno\\anaconda3\\lib\\site-packages (from boto3) (0.11.1)\n",
      "Requirement already satisfied: python-dateutil<3.0.0,>=2.1 in d:\\users\\bruno\\anaconda3\\lib\\site-packages (from botocore<1.37.0,>=1.36.2->boto3) (2.9.0.post0)\n",
      "Requirement already satisfied: urllib3!=2.2.0,<3,>=1.25.4 in d:\\users\\bruno\\anaconda3\\lib\\site-packages (from botocore<1.37.0,>=1.36.2->boto3) (2.0.7)\n",
      "Requirement already satisfied: six>=1.5 in d:\\users\\bruno\\anaconda3\\lib\\site-packages (from python-dateutil<3.0.0,>=2.1->botocore<1.37.0,>=1.36.2->boto3) (1.16.0)\n"
     ]
    }
   ],
   "source": [
    "!pip install boto3"
   ]
  },
  {
   "cell_type": "code",
   "execution_count": 87,
   "id": "d4d10427-4921-406c-ae53-35d51768dc8b",
   "metadata": {},
   "outputs": [],
   "source": [
    "import boto3\n",
    "# Biblioteca para a manipulação de Documentos\n",
    "#from trp import Document\n",
    "\n",
    "# Salvar o nome do balde que será usado para guardar as imagens\n",
    "nomeBalde = \"imgs-textract\";\n",
    "\n",
    "# Iniciar a seção com o usuário remoto\n",
    "secao = boto3.session.Session()\n",
    "\n",
    "# Importar a biblioteca dos serviços usados (Textract, Balde S3)\n",
    "s3 = secao.client(\"s3\")\n",
    "textract = secao.client(\"textract\")"
   ]
  },
  {
   "cell_type": "code",
   "execution_count": 89,
   "id": "621abce9-eb00-4dee-ad80-b04dbb6a168f",
   "metadata": {
    "scrolled": true
   },
   "outputs": [
    {
     "ename": "ClientError",
     "evalue": "An error occurred (ExpiredToken) when calling the GetObject operation: The provided token has expired.",
     "output_type": "error",
     "traceback": [
      "\u001b[1;31m---------------------------------------------------------------------------\u001b[0m",
      "\u001b[1;31mClientError\u001b[0m                               Traceback (most recent call last)",
      "Cell \u001b[1;32mIn[89], line 2\u001b[0m\n\u001b[0;32m      1\u001b[0m \u001b[38;5;66;03m# Pegar o balde com as informações dos documentos\u001b[39;00m\n\u001b[1;32m----> 2\u001b[0m reqImagem \u001b[38;5;241m=\u001b[39m s3\u001b[38;5;241m.\u001b[39mget_object(Bucket\u001b[38;5;241m=\u001b[39mnomeBalde, Key\u001b[38;5;241m=\u001b[39m\u001b[38;5;124m'\u001b[39m\u001b[38;5;124mteste01-wallpaper.jpg\u001b[39m\u001b[38;5;124m'\u001b[39m)\n\u001b[0;32m      3\u001b[0m \u001b[38;5;28mprint\u001b[39m(reqImagem)\n",
      "File \u001b[1;32mD:\\Users\\Bruno\\anaconda3\\Lib\\site-packages\\botocore\\client.py:569\u001b[0m, in \u001b[0;36mClientCreator._create_api_method.<locals>._api_call\u001b[1;34m(self, *args, **kwargs)\u001b[0m\n\u001b[0;32m    565\u001b[0m     \u001b[38;5;28;01mraise\u001b[39;00m \u001b[38;5;167;01mTypeError\u001b[39;00m(\n\u001b[0;32m    566\u001b[0m         \u001b[38;5;124mf\u001b[39m\u001b[38;5;124m\"\u001b[39m\u001b[38;5;132;01m{\u001b[39;00mpy_operation_name\u001b[38;5;132;01m}\u001b[39;00m\u001b[38;5;124m() only accepts keyword arguments.\u001b[39m\u001b[38;5;124m\"\u001b[39m\n\u001b[0;32m    567\u001b[0m     )\n\u001b[0;32m    568\u001b[0m \u001b[38;5;66;03m# The \"self\" in this scope is referring to the BaseClient.\u001b[39;00m\n\u001b[1;32m--> 569\u001b[0m \u001b[38;5;28;01mreturn\u001b[39;00m \u001b[38;5;28mself\u001b[39m\u001b[38;5;241m.\u001b[39m_make_api_call(operation_name, kwargs)\n",
      "File \u001b[1;32mD:\\Users\\Bruno\\anaconda3\\Lib\\site-packages\\botocore\\client.py:1023\u001b[0m, in \u001b[0;36mBaseClient._make_api_call\u001b[1;34m(self, operation_name, api_params)\u001b[0m\n\u001b[0;32m   1019\u001b[0m     error_code \u001b[38;5;241m=\u001b[39m error_info\u001b[38;5;241m.\u001b[39mget(\u001b[38;5;124m\"\u001b[39m\u001b[38;5;124mQueryErrorCode\u001b[39m\u001b[38;5;124m\"\u001b[39m) \u001b[38;5;129;01mor\u001b[39;00m error_info\u001b[38;5;241m.\u001b[39mget(\n\u001b[0;32m   1020\u001b[0m         \u001b[38;5;124m\"\u001b[39m\u001b[38;5;124mCode\u001b[39m\u001b[38;5;124m\"\u001b[39m\n\u001b[0;32m   1021\u001b[0m     )\n\u001b[0;32m   1022\u001b[0m     error_class \u001b[38;5;241m=\u001b[39m \u001b[38;5;28mself\u001b[39m\u001b[38;5;241m.\u001b[39mexceptions\u001b[38;5;241m.\u001b[39mfrom_code(error_code)\n\u001b[1;32m-> 1023\u001b[0m     \u001b[38;5;28;01mraise\u001b[39;00m error_class(parsed_response, operation_name)\n\u001b[0;32m   1024\u001b[0m \u001b[38;5;28;01melse\u001b[39;00m:\n\u001b[0;32m   1025\u001b[0m     \u001b[38;5;28;01mreturn\u001b[39;00m parsed_response\n",
      "\u001b[1;31mClientError\u001b[0m: An error occurred (ExpiredToken) when calling the GetObject operation: The provided token has expired."
     ]
    }
   ],
   "source": [
    "# Pegar o balde com as informações dos documentos\n",
    "reqImagem = s3.get_object(Bucket=nomeBalde, Key='teste01-wallpaper.jpg')\n",
    "print(reqImagem)"
   ]
  },
  {
   "cell_type": "code",
   "execution_count": null,
   "id": "60fe657d-87a2-4170-bd45-edfe3ad263de",
   "metadata": {},
   "outputs": [],
   "source": []
  }
 ],
 "metadata": {
  "kernelspec": {
   "display_name": "Python 3 (ipykernel)",
   "language": "python",
   "name": "python3"
  },
  "language_info": {
   "codemirror_mode": {
    "name": "ipython",
    "version": 3
   },
   "file_extension": ".py",
   "mimetype": "text/x-python",
   "name": "python",
   "nbconvert_exporter": "python",
   "pygments_lexer": "ipython3",
   "version": "3.12.7"
  }
 },
 "nbformat": 4,
 "nbformat_minor": 5
}
